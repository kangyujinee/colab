{
  "nbformat": 4,
  "nbformat_minor": 0,
  "metadata": {
    "colab": {
      "provenance": [],
      "include_colab_link": true
    },
    "kernelspec": {
      "name": "python3",
      "display_name": "Python 3"
    },
    "language_info": {
      "name": "python"
    }
  },
  "cells": [
    {
      "cell_type": "markdown",
      "metadata": {
        "id": "view-in-github",
        "colab_type": "text"
      },
      "source": [
        "<a href=\"https://colab.research.google.com/github/kangyujinee/colab/blob/main/quest1_pp.ipynb\" target=\"_parent\"><img src=\"https://colab.research.google.com/assets/colab-badge.svg\" alt=\"Open In Colab\"/></a>"
      ]
    },
    {
      "cell_type": "code",
      "execution_count": null,
      "metadata": {
        "id": "rOizNxrpNfl-"
      },
      "outputs": [],
      "source": [
        "'''\n",
        "[파이썬] 퀘스트: 회문인지 아닌지 확인하는 프로그램\n",
        "\n",
        "난이도: ★☆☆☆☆\n",
        "\n",
        "장르: 자료형, 제어문, 함수\n",
        "\n",
        "---\n",
        "* 회문이란? : 앞에서부터 읽어도 뒤에서부터 읽어도 같은 단어, 구, 문장, 숫자, 혹은 문단\n",
        "\n",
        "입력값으로 \"우성우\"를 넣었을 때 출력값은 아래와 같이 나와야한다.\n",
        "다음 조건을 확인하는 회문 함수를 만들어보자!\n",
        "\n",
        "조건 :\n",
        "단어를 입력받을 수 있게 한다.\n",
        "입력된 단어를 뒤집어서 출력할 수 있게 한다.\n",
        "입력된 단어가 회문이 맞는지 확인하여 출력할 수 있게 한다.\n",
        "자료형, 제어문, 함수를 활용한다.\n",
        "\n",
        "---\n",
        "\n",
        "입력값 : 우성우\n",
        "\n",
        "출력값 : \n",
        "뒤집힌 단어는: 우성우\n",
        "입력된 단어는 회문입니다.\n",
        "'''"
      ]
    },
    {
      "cell_type": "code",
      "source": [
        "word = str(input(\"?:\"))\n",
        "backword = word[::-1]\n",
        "\n",
        "print(f\"출력값 : {word}\")\n",
        "print(f\"뒤집힌 단어는 : {backword}\")\n",
        "if word == backword :\n",
        "  print(\"입력된 단어는 회문입니다.\")\n",
        "else :\n",
        "  print(\"입력된 단어는 회문이 아닙니다.\")"
      ],
      "metadata": {
        "id": "9rtpOcUFSyF2"
      },
      "execution_count": null,
      "outputs": []
    }
  ]
}